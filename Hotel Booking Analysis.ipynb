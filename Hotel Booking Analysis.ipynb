{
  "nbformat": 4,
  "nbformat_minor": 0,
  "metadata": {
    "colab": {
      "provenance": [],
      "authorship_tag": "ABX9TyNQ+N5oMzpWaa5SldvDJ/j6",
      "include_colab_link": true
    },
    "kernelspec": {
      "name": "python3",
      "display_name": "Python 3"
    },
    "language_info": {
      "name": "python"
    }
  },
  "cells": [
    {
      "cell_type": "markdown",
      "metadata": {
        "id": "view-in-github",
        "colab_type": "text"
      },
      "source": [
        "<a href=\"https://colab.research.google.com/github/jouherdauf/Hotel_booking_Analysis/blob/main/Hotel%20Booking%20Analysis.ipynb\" target=\"_parent\"><img src=\"https://colab.research.google.com/assets/colab-badge.svg\" alt=\"Open In Colab\"/></a>"
      ]
    },
    {
      "cell_type": "code",
      "execution_count": null,
      "metadata": {
        "id": "PUQf3MEYeBLD"
      },
      "outputs": [],
      "source": [
        "# Importing all import python libraries\n",
        "import numpy as np\n",
        "import pandas as pd\n",
        "import matplotlib\n",
        "import matplotlib.pyplot as plt\n",
        "import seaborn as sns\n",
        "%matplotlib inline"
      ]
    },
    {
      "cell_type": "code",
      "source": [
        "from google.colab import drive   # Mounting  the google drive\n",
        "drive.mount('/content/drive')"
      ],
      "metadata": {
        "id": "NC69jG_NeLZj"
      },
      "execution_count": null,
      "outputs": []
    },
    {
      "cell_type": "code",
      "source": [
        "htl_bkn = pd.read_csv(('/content/drive/MyDrive/Hotel_Analysis/Hotel Bookings.csv'))\n",
        "country = pd.read_csv(('/content/drive/MyDrive/Hotel_Analysis/country.csv'))"
      ],
      "metadata": {
        "id": "ruiGEtI6eMlD"
      },
      "execution_count": null,
      "outputs": []
    },
    {
      "cell_type": "code",
      "source": [
        "htl_bkn.head()  # A overview of the data"
      ],
      "metadata": {
        "id": "5V9b3jJQhX7z"
      },
      "execution_count": null,
      "outputs": []
    },
    {
      "cell_type": "code",
      "source": [
        "len(htl_bkn.axes[0]),len(htl_bkn.axes[1])"
      ],
      "metadata": {
        "id": "JwECqHHOhbTY"
      },
      "execution_count": null,
      "outputs": []
    }
  ]
}